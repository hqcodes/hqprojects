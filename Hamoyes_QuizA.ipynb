{
  "nbformat": 4,
  "nbformat_minor": 0,
  "metadata": {
    "colab": {
      "name": "Hamoyes_QuizA.ipynb",
      "provenance": [],
      "authorship_tag": "ABX9TyOTjdqioZ/KO+QkCFk3/pbE",
      "include_colab_link": true
    },
    "kernelspec": {
      "name": "python3",
      "display_name": "Python 3"
    }
  },
  "cells": [
    {
      "cell_type": "markdown",
      "metadata": {
        "id": "view-in-github",
        "colab_type": "text"
      },
      "source": [
        "<a href=\"https://colab.research.google.com/github/hqcodes/hqprojects/blob/master/Hamoyes_QuizA.ipynb\" target=\"_parent\"><img src=\"https://colab.research.google.com/assets/colab-badge.svg\" alt=\"Open In Colab\"/></a>"
      ]
    },
    {
      "cell_type": "code",
      "metadata": {
        "id": "9il6bmxtf3wT",
        "colab_type": "code",
        "colab": {
          "base_uri": "https://localhost:8080/",
          "height": 70
        },
        "outputId": "8acb212d-0aa8-4388-f9f7-fbd5ac718b9c"
      },
      "source": [
        "# import all needed modules\n",
        "%matplotlib inline\n",
        "import numpy as np\n",
        "import pandas as pd\n",
        "import statistics\n",
        "import matplotlib.pyplot as plt\n",
        "import seaborn as sns\n",
        "import missingno as msno"
      ],
      "execution_count": 2,
      "outputs": [
        {
          "output_type": "stream",
          "text": [
            "/usr/local/lib/python3.6/dist-packages/statsmodels/tools/_testing.py:19: FutureWarning: pandas.util.testing is deprecated. Use the functions in the public API at pandas.testing instead.\n",
            "  import pandas.util.testing as tm\n"
          ],
          "name": "stderr"
        }
      ]
    },
    {
      "cell_type": "code",
      "metadata": {
        "id": "f4c_l1Dki1nN",
        "colab_type": "code",
        "colab": {
          "base_uri": "https://localhost:8080/",
          "height": 375
        },
        "outputId": "6b28bc6c-4f22-4cc8-ea49-4e5e0c459787"
      },
      "source": [
        "#reading data in csv format\n",
        "url = 'https://raw.githubusercontent.com/WalePhenomenon/climate_change/master/fuel_ferc1.csv'\n",
        "data = pd.read_csv(url)\n",
        "data.sample(10)"
      ],
      "execution_count": 21,
      "outputs": [
        {
          "output_type": "execute_result",
          "data": {
            "text/html": [
              "<div>\n",
              "<style scoped>\n",
              "    .dataframe tbody tr th:only-of-type {\n",
              "        vertical-align: middle;\n",
              "    }\n",
              "\n",
              "    .dataframe tbody tr th {\n",
              "        vertical-align: top;\n",
              "    }\n",
              "\n",
              "    .dataframe thead th {\n",
              "        text-align: right;\n",
              "    }\n",
              "</style>\n",
              "<table border=\"1\" class=\"dataframe\">\n",
              "  <thead>\n",
              "    <tr style=\"text-align: right;\">\n",
              "      <th></th>\n",
              "      <th>record_id</th>\n",
              "      <th>utility_id_ferc1</th>\n",
              "      <th>report_year</th>\n",
              "      <th>plant_name_ferc1</th>\n",
              "      <th>fuel_type_code_pudl</th>\n",
              "      <th>fuel_unit</th>\n",
              "      <th>fuel_qty_burned</th>\n",
              "      <th>fuel_mmbtu_per_unit</th>\n",
              "      <th>fuel_cost_per_unit_burned</th>\n",
              "      <th>fuel_cost_per_unit_delivered</th>\n",
              "      <th>fuel_cost_per_mmbtu</th>\n",
              "    </tr>\n",
              "  </thead>\n",
              "  <tbody>\n",
              "    <tr>\n",
              "      <th>6411</th>\n",
              "      <td>f1_fuel_1999_12_68_2_4</td>\n",
              "      <td>68</td>\n",
              "      <td>1999</td>\n",
              "      <td>greens bayou</td>\n",
              "      <td>gas</td>\n",
              "      <td>mcf</td>\n",
              "      <td>1432918.0</td>\n",
              "      <td>1.029000</td>\n",
              "      <td>262.300</td>\n",
              "      <td>262.500</td>\n",
              "      <td>2.548</td>\n",
              "    </tr>\n",
              "    <tr>\n",
              "      <th>28863</th>\n",
              "      <td>f1_fuel_2018_12_159_0_10</td>\n",
              "      <td>159</td>\n",
              "      <td>2018</td>\n",
              "      <td>mcmeekin</td>\n",
              "      <td>gas</td>\n",
              "      <td>mcf</td>\n",
              "      <td>6069577.0</td>\n",
              "      <td>1.026000</td>\n",
              "      <td>5.280</td>\n",
              "      <td>5.280</td>\n",
              "      <td>5.146</td>\n",
              "    </tr>\n",
              "    <tr>\n",
              "      <th>22533</th>\n",
              "      <td>f1_fuel_2012_12_146_0_3</td>\n",
              "      <td>146</td>\n",
              "      <td>2012</td>\n",
              "      <td>schiller</td>\n",
              "      <td>oil</td>\n",
              "      <td>bbl</td>\n",
              "      <td>9140.0</td>\n",
              "      <td>5.826198</td>\n",
              "      <td>73.883</td>\n",
              "      <td>67.963</td>\n",
              "      <td>12.682</td>\n",
              "    </tr>\n",
              "    <tr>\n",
              "      <th>22381</th>\n",
              "      <td>f1_fuel_2012_12_95_0_3</td>\n",
              "      <td>95</td>\n",
              "      <td>2012</td>\n",
              "      <td>r.m. heskett</td>\n",
              "      <td>waste</td>\n",
              "      <td>ton</td>\n",
              "      <td>446.0</td>\n",
              "      <td>0.015000</td>\n",
              "      <td>43.108</td>\n",
              "      <td>62.245</td>\n",
              "      <td>1.437</td>\n",
              "    </tr>\n",
              "    <tr>\n",
              "      <th>16392</th>\n",
              "      <td>f1_fuel_2007_12_108_2_10</td>\n",
              "      <td>108</td>\n",
              "      <td>2007</td>\n",
              "      <td>harry allen 4</td>\n",
              "      <td>gas</td>\n",
              "      <td>mcf</td>\n",
              "      <td>483388.0</td>\n",
              "      <td>1.046772</td>\n",
              "      <td>6.074</td>\n",
              "      <td>6.074</td>\n",
              "      <td>5.803</td>\n",
              "    </tr>\n",
              "    <tr>\n",
              "      <th>22515</th>\n",
              "      <td>f1_fuel_2012_12_44_3_4</td>\n",
              "      <td>44</td>\n",
              "      <td>2012</td>\n",
              "      <td>superior</td>\n",
              "      <td>oil</td>\n",
              "      <td>bbl</td>\n",
              "      <td>176.0</td>\n",
              "      <td>5.778192</td>\n",
              "      <td>106.522</td>\n",
              "      <td>123.039</td>\n",
              "      <td>18.435</td>\n",
              "    </tr>\n",
              "    <tr>\n",
              "      <th>21116</th>\n",
              "      <td>f1_fuel_2011_12_147_0_4</td>\n",
              "      <td>147</td>\n",
              "      <td>2011</td>\n",
              "      <td>four corners (1)</td>\n",
              "      <td>coal</td>\n",
              "      <td>ton</td>\n",
              "      <td>691374.0</td>\n",
              "      <td>17.602000</td>\n",
              "      <td>30.700</td>\n",
              "      <td>30.700</td>\n",
              "      <td>1.740</td>\n",
              "    </tr>\n",
              "    <tr>\n",
              "      <th>28652</th>\n",
              "      <td>f1_fuel_2018_12_186_0_1</td>\n",
              "      <td>186</td>\n",
              "      <td>2018</td>\n",
              "      <td>altavista</td>\n",
              "      <td>gas</td>\n",
              "      <td>mcf</td>\n",
              "      <td>17179.0</td>\n",
              "      <td>1.040000</td>\n",
              "      <td>15.810</td>\n",
              "      <td>15.810</td>\n",
              "      <td>15.200</td>\n",
              "    </tr>\n",
              "    <tr>\n",
              "      <th>3283</th>\n",
              "      <td>f1_fuel_1996_12_119_0_2</td>\n",
              "      <td>119</td>\n",
              "      <td>1996</td>\n",
              "      <td>michigan city</td>\n",
              "      <td>gas</td>\n",
              "      <td>mcf</td>\n",
              "      <td>756059.0</td>\n",
              "      <td>1.020000</td>\n",
              "      <td>3.880</td>\n",
              "      <td>3.880</td>\n",
              "      <td>3.799</td>\n",
              "    </tr>\n",
              "    <tr>\n",
              "      <th>9058</th>\n",
              "      <td>f1_fuel_2001_12_20_0_1</td>\n",
              "      <td>20</td>\n",
              "      <td>2001</td>\n",
              "      <td>e. d. edwards</td>\n",
              "      <td>coal</td>\n",
              "      <td>ton</td>\n",
              "      <td>1702409.0</td>\n",
              "      <td>22.548000</td>\n",
              "      <td>36.629</td>\n",
              "      <td>37.008</td>\n",
              "      <td>1.610</td>\n",
              "    </tr>\n",
              "  </tbody>\n",
              "</table>\n",
              "</div>"
            ],
            "text/plain": [
              "                      record_id  ...  fuel_cost_per_mmbtu\n",
              "6411     f1_fuel_1999_12_68_2_4  ...                2.548\n",
              "28863  f1_fuel_2018_12_159_0_10  ...                5.146\n",
              "22533   f1_fuel_2012_12_146_0_3  ...               12.682\n",
              "22381    f1_fuel_2012_12_95_0_3  ...                1.437\n",
              "16392  f1_fuel_2007_12_108_2_10  ...                5.803\n",
              "22515    f1_fuel_2012_12_44_3_4  ...               18.435\n",
              "21116   f1_fuel_2011_12_147_0_4  ...                1.740\n",
              "28652   f1_fuel_2018_12_186_0_1  ...               15.200\n",
              "3283    f1_fuel_1996_12_119_0_2  ...                3.799\n",
              "9058     f1_fuel_2001_12_20_0_1  ...                1.610\n",
              "\n",
              "[10 rows x 11 columns]"
            ]
          },
          "metadata": {
            "tags": []
          },
          "execution_count": 21
        }
      ]
    },
    {
      "cell_type": "code",
      "metadata": {
        "id": "dIUb9KGGps9I",
        "colab_type": "code",
        "colab": {
          "base_uri": "https://localhost:8080/",
          "height": 34
        },
        "outputId": "36855e63-73b3-407a-93d0-ecec33c67abf"
      },
      "source": [
        "# shape of data \n",
        "print(data.shape)"
      ],
      "execution_count": 58,
      "outputs": [
        {
          "output_type": "stream",
          "text": [
            "(29523, 11)\n"
          ],
          "name": "stdout"
        }
      ]
    },
    {
      "cell_type": "markdown",
      "metadata": {
        "id": "pS3T5C6zgkFg",
        "colab_type": "text"
      },
      "source": [
        "Question ONE"
      ]
    },
    {
      "cell_type": "code",
      "metadata": {
        "id": "VRYoh-LXgppi",
        "colab_type": "code",
        "colab": {
          "base_uri": "https://localhost:8080/",
          "height": 34
        },
        "outputId": "bbabf893-d1a3-4a39-af55-b516b1e28f21"
      },
      "source": [
        "A = [1, 2, 3, 4, 5, 6]\n",
        "B= [13, 21, 34]\n",
        "A.extend(B)\n",
        "print(A)"
      ],
      "execution_count": 15,
      "outputs": [
        {
          "output_type": "stream",
          "text": [
            "[1, 2, 3, 4, 5, 6, 13, 21, 34]\n"
          ],
          "name": "stdout"
        }
      ]
    },
    {
      "cell_type": "code",
      "metadata": {
        "id": "dWG9Ww60g9Eu",
        "colab_type": "code",
        "colab": {
          "base_uri": "https://localhost:8080/",
          "height": 67
        },
        "outputId": "85d17591-f603-49b0-8564-c5748edcc150"
      },
      "source": [
        "# QUESTION TWO identity matrix\n",
        "A= np.identity(3)\n",
        "print(A)"
      ],
      "execution_count": 19,
      "outputs": [
        {
          "output_type": "stream",
          "text": [
            "[[1. 0. 0.]\n",
            " [0. 1. 0.]\n",
            " [0. 0. 1.]]\n"
          ],
          "name": "stdout"
        }
      ]
    },
    {
      "cell_type": "code",
      "metadata": {
        "id": "VRrdSzXVh-MX",
        "colab_type": "code",
        "colab": {
          "base_uri": "https://localhost:8080/",
          "height": 151
        },
        "outputId": "62db29eb-544c-41e5-a91f-f0a43fbae2f3"
      },
      "source": [
        "\n",
        "data.groupby(['fuel_type_code_pudl'])['fuel_cost_per_unit_burned'].mean()"
      ],
      "execution_count": 30,
      "outputs": [
        {
          "output_type": "execute_result",
          "data": {
            "text/plain": [
              "fuel_type_code_pudl\n",
              "coal         67.421830\n",
              "gas          13.659397\n",
              "nuclear    4955.157002\n",
              "oil         168.877086\n",
              "other        18.253856\n",
              "waste        19.518122\n",
              "Name: fuel_cost_per_unit_burned, dtype: float64"
            ]
          },
          "metadata": {
            "tags": []
          },
          "execution_count": 30
        }
      ]
    },
    {
      "cell_type": "code",
      "metadata": {
        "id": "_qMj_zlCiiT2",
        "colab_type": "code",
        "colab": {
          "base_uri": "https://localhost:8080/",
          "height": 296
        },
        "outputId": "e69dae84-4243-4c1a-ae62-1108dab7b9c9"
      },
      "source": [
        "b_plot = sns.barplot(data=data, x='fuel_type_code_pudl', y='fuel_cost_per_unit_burned')\n",
        "b_plot.set_yscale('log')\n",
        "b_plot.set_ylim(1,1500)\n",
        "b_plot.set_xlabel('Fuel Type')"
      ],
      "execution_count": 28,
      "outputs": [
        {
          "output_type": "execute_result",
          "data": {
            "text/plain": [
              "Text(0.5, 0, 'Fuel Type')"
            ]
          },
          "metadata": {
            "tags": []
          },
          "execution_count": 28
        },
        {
          "output_type": "display_data",
          "data": {
            "image/png": "[encoded data removed]",
            "text/plain": [
              "<Figure size 432x288 with 1 Axes>"
            ]
          },
          "metadata": {
            "tags": [],
            "needs_background": "light"
          }
        }
      ]
    },
    {
      "cell_type": "code",
      "metadata": {
        "id": "h-bM924plBk3",
        "colab_type": "code",
        "colab": {
          "base_uri": "https://localhost:8080/",
          "height": 168
        },
        "outputId": "3aadb935-f25a-4377-f0e7-9b08b2cf796c"
      },
      "source": [
        "data.fuel_mmbtu_per_unit.describe()"
      ],
      "execution_count": 31,
      "outputs": [
        {
          "output_type": "execute_result",
          "data": {
            "text/plain": [
              "count    29523.000000\n",
              "mean         8.492111\n",
              "std         10.600220\n",
              "min          0.000001\n",
              "25%          1.024000\n",
              "50%          5.762694\n",
              "75%         17.006000\n",
              "max        341.260000\n",
              "Name: fuel_mmbtu_per_unit, dtype: float64"
            ]
          },
          "metadata": {
            "tags": []
          },
          "execution_count": 31
        }
      ]
    },
    {
      "cell_type": "code",
      "metadata": {
        "id": "iHxpSF4sll6e",
        "colab_type": "code",
        "colab": {
          "base_uri": "https://localhost:8080/",
          "height": 34
        },
        "outputId": "a151efed-cea3-4549-f236-8ee64fc1d595"
      },
      "source": [
        "data.fuel_qty_burned.skew()"
      ],
      "execution_count": 32,
      "outputs": [
        {
          "output_type": "execute_result",
          "data": {
            "text/plain": [
              "15.851495469109503"
            ]
          },
          "metadata": {
            "tags": []
          },
          "execution_count": 32
        }
      ]
    },
    {
      "cell_type": "code",
      "metadata": {
        "id": "8tPZ6RUVlxTm",
        "colab_type": "code",
        "colab": {
          "base_uri": "https://localhost:8080/",
          "height": 34
        },
        "outputId": "819452e7-d3c3-4e2c-dde6-261289a551af"
      },
      "source": [
        "data.fuel_qty_burned.kurtosis()"
      ],
      "execution_count": 33,
      "outputs": [
        {
          "output_type": "execute_result",
          "data": {
            "text/plain": [
              "651.3694501337732"
            ]
          },
          "metadata": {
            "tags": []
          },
          "execution_count": 33
        }
      ]
    },
    {
      "cell_type": "code",
      "metadata": {
        "id": "9gUhk17Rl1t_",
        "colab_type": "code",
        "colab": {
          "base_uri": "https://localhost:8080/",
          "height": 219
        },
        "outputId": "74000a57-5128-40bf-a9e3-1ef68a90a162"
      },
      "source": [
        "data.isna().sum()"
      ],
      "execution_count": 35,
      "outputs": [
        {
          "output_type": "execute_result",
          "data": {
            "text/plain": [
              "record_id                         0\n",
              "utility_id_ferc1                  0\n",
              "report_year                       0\n",
              "plant_name_ferc1                  0\n",
              "fuel_type_code_pudl               0\n",
              "fuel_unit                       180\n",
              "fuel_qty_burned                   0\n",
              "fuel_mmbtu_per_unit               0\n",
              "fuel_cost_per_unit_burned         0\n",
              "fuel_cost_per_unit_delivered      0\n",
              "fuel_cost_per_mmbtu               0\n",
              "dtype: int64"
            ]
          },
          "metadata": {
            "tags": []
          },
          "execution_count": 35
        }
      ]
    },
    {
      "cell_type": "code",
      "metadata": {
        "id": "b7bO1QobmMuP",
        "colab_type": "code",
        "colab": {
          "base_uri": "https://localhost:8080/",
          "height": 34
        },
        "outputId": "834aa2fd-d6e5-4910-afc1-f49ea4a351f0"
      },
      "source": [
        "total_fuel_unit = data.fuel_unit.count()\n",
        "missing_fuel_unit = data.fuel_unit.isna().sum()\n",
        "print('The percentage for of missing value is: ',(missing_fuel_unit/total_fuel_unit)*100)"
      ],
      "execution_count": 44,
      "outputs": [
        {
          "output_type": "stream",
          "text": [
            "The percentage for of missing value is:  0.6134342091810653\n"
          ],
          "name": "stdout"
        }
      ]
    },
    {
      "cell_type": "code",
      "metadata": {
        "id": "R6PYVFhkmh13",
        "colab_type": "code",
        "colab": {
          "base_uri": "https://localhost:8080/",
          "height": 70
        },
        "outputId": "4e07daec-bc52-4c6a-b1c2-3a3d4b203c23"
      },
      "source": [
        "#differentiate numerical and categorical data\n",
        "categorical_features = data.select_dtypes(include='object').columns.to_list()\n",
        "numerical_features = data.select_dtypes(include='number').columns.to_list()\n",
        "print('Categorical features: ', categorical_features)\n",
        "print('Numerical features: ', numerical_features)"
      ],
      "execution_count": 46,
      "outputs": [
        {
          "output_type": "stream",
          "text": [
            "Categorical features:  ['record_id', 'plant_name_ferc1', 'fuel_type_code_pudl', 'fuel_unit']\n",
            "Numerical features:  ['utility_id_ferc1', 'report_year', 'fuel_qty_burned', 'fuel_mmbtu_per_unit', 'fuel_cost_per_unit_burned', 'fuel_cost_per_unit_delivered', 'fuel_cost_per_mmbtu']\n"
          ],
          "name": "stdout"
        }
      ]
    },
    {
      "cell_type": "code",
      "metadata": {
        "id": "7FcyIH9On7jX",
        "colab_type": "code",
        "colab": {}
      },
      "source": [
        "data['fuel_unit'] = data.groupby(['fuel_type_code_pudl'])['fuel_unit'].transform(lambda x: x.fillna(x.mode()[0]))"
      ],
      "execution_count": 47,
      "outputs": []
    },
    {
      "cell_type": "code",
      "metadata": {
        "id": "LEOt8e1_oVff",
        "colab_type": "code",
        "colab": {
          "base_uri": "https://localhost:8080/",
          "height": 219
        },
        "outputId": "e6050bcf-fd37-4d5c-c47b-52602855b76a"
      },
      "source": [
        "data.isna().any()"
      ],
      "execution_count": 48,
      "outputs": [
        {
          "output_type": "execute_result",
          "data": {
            "text/plain": [
              "record_id                       False\n",
              "utility_id_ferc1                False\n",
              "report_year                     False\n",
              "plant_name_ferc1                False\n",
              "fuel_type_code_pudl             False\n",
              "fuel_unit                       False\n",
              "fuel_qty_burned                 False\n",
              "fuel_mmbtu_per_unit             False\n",
              "fuel_cost_per_unit_burned       False\n",
              "fuel_cost_per_unit_delivered    False\n",
              "fuel_cost_per_mmbtu             False\n",
              "dtype: bool"
            ]
          },
          "metadata": {
            "tags": []
          },
          "execution_count": 48
        }
      ]
    },
    {
      "cell_type": "code",
      "metadata": {
        "id": "4cQaATmFobCE",
        "colab_type": "code",
        "colab": {
          "base_uri": "https://localhost:8080/",
          "height": 283
        },
        "outputId": "475614b3-d277-4199-e925-841f13bb633d"
      },
      "source": [
        "data.corr()"
      ],
      "execution_count": 69,
      "outputs": [
        {
          "output_type": "execute_result",
          "data": {
            "text/html": [
              "<div>\n",
              "<style scoped>\n",
              "    .dataframe tbody tr th:only-of-type {\n",
              "        vertical-align: middle;\n",
              "    }\n",
              "\n",
              "    .dataframe tbody tr th {\n",
              "        vertical-align: top;\n",
              "    }\n",
              "\n",
              "    .dataframe thead th {\n",
              "        text-align: right;\n",
              "    }\n",
              "</style>\n",
              "<table border=\"1\" class=\"dataframe\">\n",
              "  <thead>\n",
              "    <tr style=\"text-align: right;\">\n",
              "      <th></th>\n",
              "      <th>utility_id_ferc1</th>\n",
              "      <th>report_year</th>\n",
              "      <th>fuel_qty_burned</th>\n",
              "      <th>fuel_mmbtu_per_unit</th>\n",
              "      <th>fuel_cost_per_unit_burned</th>\n",
              "      <th>fuel_cost_per_unit_delivered</th>\n",
              "      <th>fuel_cost_per_mmbtu</th>\n",
              "    </tr>\n",
              "  </thead>\n",
              "  <tbody>\n",
              "    <tr>\n",
              "      <th>utility_id_ferc1</th>\n",
              "      <td>1.000000</td>\n",
              "      <td>0.093323</td>\n",
              "      <td>-0.057447</td>\n",
              "      <td>-0.066946</td>\n",
              "      <td>-0.037863</td>\n",
              "      <td>-0.016414</td>\n",
              "      <td>0.006122</td>\n",
              "    </tr>\n",
              "    <tr>\n",
              "      <th>report_year</th>\n",
              "      <td>0.093323</td>\n",
              "      <td>1.000000</td>\n",
              "      <td>0.012952</td>\n",
              "      <td>-0.110853</td>\n",
              "      <td>0.013599</td>\n",
              "      <td>-0.014043</td>\n",
              "      <td>0.010261</td>\n",
              "    </tr>\n",
              "    <tr>\n",
              "      <th>fuel_qty_burned</th>\n",
              "      <td>-0.057447</td>\n",
              "      <td>0.012952</td>\n",
              "      <td>1.000000</td>\n",
              "      <td>-0.080946</td>\n",
              "      <td>-0.018535</td>\n",
              "      <td>-0.003551</td>\n",
              "      <td>-0.001896</td>\n",
              "    </tr>\n",
              "    <tr>\n",
              "      <th>fuel_mmbtu_per_unit</th>\n",
              "      <td>-0.066946</td>\n",
              "      <td>-0.110853</td>\n",
              "      <td>-0.080946</td>\n",
              "      <td>1.000000</td>\n",
              "      <td>-0.010034</td>\n",
              "      <td>-0.009039</td>\n",
              "      <td>-0.005884</td>\n",
              "    </tr>\n",
              "    <tr>\n",
              "      <th>fuel_cost_per_unit_burned</th>\n",
              "      <td>-0.037863</td>\n",
              "      <td>0.013599</td>\n",
              "      <td>-0.018535</td>\n",
              "      <td>-0.010034</td>\n",
              "      <td>1.000000</td>\n",
              "      <td>0.011007</td>\n",
              "      <td>-0.000437</td>\n",
              "    </tr>\n",
              "    <tr>\n",
              "      <th>fuel_cost_per_unit_delivered</th>\n",
              "      <td>-0.016414</td>\n",
              "      <td>-0.014043</td>\n",
              "      <td>-0.003551</td>\n",
              "      <td>-0.009039</td>\n",
              "      <td>0.011007</td>\n",
              "      <td>1.000000</td>\n",
              "      <td>-0.000109</td>\n",
              "    </tr>\n",
              "    <tr>\n",
              "      <th>fuel_cost_per_mmbtu</th>\n",
              "      <td>0.006122</td>\n",
              "      <td>0.010261</td>\n",
              "      <td>-0.001896</td>\n",
              "      <td>-0.005884</td>\n",
              "      <td>-0.000437</td>\n",
              "      <td>-0.000109</td>\n",
              "      <td>1.000000</td>\n",
              "    </tr>\n",
              "  </tbody>\n",
              "</table>\n",
              "</div>"
            ],
            "text/plain": [
              "                              utility_id_ferc1  ...  fuel_cost_per_mmbtu\n",
              "utility_id_ferc1                      1.000000  ...             0.006122\n",
              "report_year                           0.093323  ...             0.010261\n",
              "fuel_qty_burned                      -0.057447  ...            -0.001896\n",
              "fuel_mmbtu_per_unit                  -0.066946  ...            -0.005884\n",
              "fuel_cost_per_unit_burned            -0.037863  ...            -0.000437\n",
              "fuel_cost_per_unit_delivered         -0.016414  ...            -0.000109\n",
              "fuel_cost_per_mmbtu                   0.006122  ...             1.000000\n",
              "\n",
              "[7 rows x 7 columns]"
            ]
          },
          "metadata": {
            "tags": []
          },
          "execution_count": 69
        }
      ]
    },
    {
      "cell_type": "code",
      "metadata": {
        "id": "H8PiaXyHpAHo",
        "colab_type": "code",
        "colab": {
          "base_uri": "https://localhost:8080/",
          "height": 135
        },
        "outputId": "121a3780-aa20-4349-f9be-8e68f57b0690"
      },
      "source": [
        "data.groupby(['report_year'])['fuel_cost_per_unit_delivered'].sum().nlargest()"
      ],
      "execution_count": 65,
      "outputs": [
        {
          "output_type": "execute_result",
          "data": {
            "text/plain": [
              "report_year\n",
              "1997    1.218738e+07\n",
              "1996    1.000602e+07\n",
              "2000    1.352903e+06\n",
              "2009    7.975923e+05\n",
              "2018    4.748057e+05\n",
              "Name: fuel_cost_per_unit_delivered, dtype: float64"
            ]
          },
          "metadata": {
            "tags": []
          },
          "execution_count": 65
        }
      ]
    },
    {
      "cell_type": "code",
      "metadata": {
        "id": "Fg1neLBbqpvt",
        "colab_type": "code",
        "colab": {}
      },
      "source": [
        ""
      ],
      "execution_count": 73,
      "outputs": []
    },
    {
      "cell_type": "code",
      "metadata": {
        "id": "YecJSsYDsbvV",
        "colab_type": "code",
        "colab": {}
      },
      "source": [
        ""
      ],
      "execution_count": null,
      "outputs": []
    }
  ]
}